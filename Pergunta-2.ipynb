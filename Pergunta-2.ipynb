{
 "cells": [
  {
   "cell_type": "code",
   "execution_count": 32,
   "metadata": {
    "collapsed": true
   },
   "outputs": [],
   "source": [
    "import pandas as pd\n",
    "import numpy as np\n",
    "pd.set_option('display.max_rows', 5)"
   ]
  },
  {
   "cell_type": "code",
   "execution_count": 33,
   "metadata": {
    "collapsed": true
   },
   "outputs": [],
   "source": [
    "datafolder = 'input/'"
   ]
  },
  {
   "cell_type": "markdown",
   "metadata": {},
   "source": [
    "## Qual é a combinação caminhão-carroceria mais procurada"
   ]
  },
  {
   "cell_type": "code",
   "execution_count": 34,
   "metadata": {
    "collapsed": true
   },
   "outputs": [],
   "source": [
    "searches = pd.read_csv(datafolder+'searches.csv', dtype='unicode')"
   ]
  },
  {
   "cell_type": "code",
   "execution_count": 36,
   "metadata": {
    "collapsed": false
   },
   "outputs": [],
   "source": [
    "searches = searches.ix[(searches['truck_type_id']!='0') & (searches['body_type_id']!='0') , :]"
   ]
  },
  {
   "cell_type": "code",
   "execution_count": 37,
   "metadata": {
    "collapsed": false
   },
   "outputs": [
    {
     "data": {
      "text/plain": [
       "Index(['search_id', 'search_date', 'user_id', 'user_ip', 'truck_type_id',\n",
       "       'body_type_id', 'truck_gps', 'city_from_id', 'city_to_id',\n",
       "       'from_state_uf', 'to_state_uf', 'from_lat', 'from_lng', 'to_lat',\n",
       "       'to_lng', 'search_source'],\n",
       "      dtype='object')"
      ]
     },
     "execution_count": 37,
     "metadata": {},
     "output_type": "execute_result"
    }
   ],
   "source": [
    "searches.columns"
   ]
  },
  {
   "cell_type": "code",
   "execution_count": 38,
   "metadata": {
    "collapsed": true
   },
   "outputs": [],
   "source": [
    "searches['truck-body'] = searches['truck_type_id'] + '-' + searches['body_type_id']"
   ]
  },
  {
   "cell_type": "code",
   "execution_count": 39,
   "metadata": {
    "collapsed": false
   },
   "outputs": [],
   "source": [
    "top_truck_body = pd.DataFrame(searches['truck-body'])"
   ]
  },
  {
   "cell_type": "code",
   "execution_count": 40,
   "metadata": {
    "collapsed": false
   },
   "outputs": [
    {
     "data": {
      "text/html": [
       "<div>\n",
       "<table border=\"1\" class=\"dataframe\">\n",
       "  <thead>\n",
       "    <tr style=\"text-align: right;\">\n",
       "      <th></th>\n",
       "      <th>truck-body</th>\n",
       "      <th>SIZE</th>\n",
       "    </tr>\n",
       "  </thead>\n",
       "  <tbody>\n",
       "    <tr>\n",
       "      <th>112</th>\n",
       "      <td>6-7</td>\n",
       "      <td>107356</td>\n",
       "    </tr>\n",
       "  </tbody>\n",
       "</table>\n",
       "</div>"
      ],
      "text/plain": [
       "    truck-body    SIZE\n",
       "112        6-7  107356"
      ]
     },
     "execution_count": 40,
     "metadata": {},
     "output_type": "execute_result"
    }
   ],
   "source": [
    "top_truck_body = pd.DataFrame(top_truck_body.groupby(by=['truck-body']).size()).reset_index()\n",
    "top_truck_body.columns = ['truck-body', 'SIZE']\n",
    "top_truck_body.sort_values(by='SIZE', ascending=False).head(1)"
   ]
  },
  {
   "cell_type": "markdown",
   "metadata": {},
   "source": [
    "caminhões:<br>\n",
    "1 Rodotrem<br>\n",
    "2 Bitrem<br>\n",
    "3 Carreta LS<br>\n",
    "4 Carreta<br>\n",
    "5 Bitruck<br>\n",
    "6 Truck<br>\n",
    "7 Toco<br>\n",
    "8 3/4<br>\n",
    "9 VLC<br>\n",
    "10 VUC<br>\n",
    "11 HR<br>\n",
    "<br>\n",
    "carrocerias:<br>\n",
    "1 Baú<br>\n",
    "2 Baú Frigorífico<br>\n",
    "3 Boiadeiro<br>\n",
    "4 Caçamba<br>\n",
    "5 Container<br>\n",
    "6 Gaiola<br>\n",
    "7 Grade Baixa<br>\n",
    "8 Graneleiro<br>\n",
    "9 Munk<br>\n",
    "11 Prancha<br>\n",
    "12 Sider<br>\n",
    "13 Silo<br>\n",
    "14 Tanque<br>\n",
    "15 Só Cavalo Mecânico"
   ]
  },
  {
   "cell_type": "markdown",
   "metadata": {},
   "source": [
    "### A combinação de caminhão-carroceria mais buscada é truck-Grade Baixa"
   ]
  }
 ],
 "metadata": {
  "kernelspec": {
   "display_name": "Python 3",
   "language": "python",
   "name": "python3"
  },
  "language_info": {
   "codemirror_mode": {
    "name": "ipython",
    "version": 3
   },
   "file_extension": ".py",
   "mimetype": "text/x-python",
   "name": "python",
   "nbconvert_exporter": "python",
   "pygments_lexer": "ipython3",
   "version": "3.5.1+"
  }
 },
 "nbformat": 4,
 "nbformat_minor": 0
}
