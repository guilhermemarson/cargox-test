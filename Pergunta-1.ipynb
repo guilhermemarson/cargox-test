{
 "cells": [
  {
   "cell_type": "code",
   "execution_count": 275,
   "metadata": {
    "collapsed": false
   },
   "outputs": [],
   "source": [
    "import pandas as pd\n",
    "import numpy as np\n",
    "pd.set_option('display.max_rows', 5)"
   ]
  },
  {
   "cell_type": "code",
   "execution_count": 276,
   "metadata": {
    "collapsed": false
   },
   "outputs": [],
   "source": [
    "datafolder = 'input/'"
   ]
  },
  {
   "cell_type": "markdown",
   "metadata": {},
   "source": [
    "## Qual é a rota mais comum das cargas?"
   ]
  },
  {
   "cell_type": "code",
   "execution_count": 277,
   "metadata": {
    "collapsed": false
   },
   "outputs": [],
   "source": [
    "shipments = pd.read_csv(datafolder+'shipments.csv')"
   ]
  },
  {
   "cell_type": "markdown",
   "metadata": {},
   "source": [
    "#### Converte city_from e city_to para String para concatená-las criando uma coluna de índice"
   ]
  },
  {
   "cell_type": "code",
   "execution_count": 278,
   "metadata": {
    "collapsed": true
   },
   "outputs": [],
   "source": [
    "shipments['city_from'] = shipments['city_from'].astype(str)\n",
    "shipments['city_to'] = shipments['city_to'].astype(str)"
   ]
  },
  {
   "cell_type": "code",
   "execution_count": 279,
   "metadata": {
    "collapsed": true
   },
   "outputs": [],
   "source": [
    "shipments['ROUTE'] = shipments['city_from'] + shipments['city_to']"
   ]
  },
  {
   "cell_type": "markdown",
   "metadata": {},
   "source": [
    "#### Cria um df com apenas a coluna 'ROUTE' "
   ]
  },
  {
   "cell_type": "code",
   "execution_count": 280,
   "metadata": {
    "collapsed": true
   },
   "outputs": [],
   "source": [
    "top_routes = pd.DataFrame(shipments['ROUTE'])"
   ]
  },
  {
   "cell_type": "markdown",
   "metadata": {},
   "source": [
    "#### Agrupa as rotas e soma seus totais"
   ]
  },
  {
   "cell_type": "code",
   "execution_count": 281,
   "metadata": {
    "collapsed": false
   },
   "outputs": [],
   "source": [
    "top_routes = pd.DataFrame(top_routes.groupby(by=['ROUTE']).size()).reset_index()"
   ]
  },
  {
   "cell_type": "code",
   "execution_count": 282,
   "metadata": {
    "collapsed": false
   },
   "outputs": [],
   "source": [
    "top_routes.columns = ['ROUTE', 'SIZE']"
   ]
  },
  {
   "cell_type": "code",
   "execution_count": 283,
   "metadata": {
    "collapsed": false,
    "scrolled": true
   },
   "outputs": [
    {
     "data": {
      "text/html": [
       "<div>\n",
       "<table border=\"1\" class=\"dataframe\">\n",
       "  <thead>\n",
       "    <tr style=\"text-align: right;\">\n",
       "      <th></th>\n",
       "      <th>ROUTE</th>\n",
       "      <th>SIZE</th>\n",
       "    </tr>\n",
       "  </thead>\n",
       "  <tbody>\n",
       "    <tr>\n",
       "      <th>26952</th>\n",
       "      <td>82689422</td>\n",
       "      <td>516</td>\n",
       "    </tr>\n",
       "  </tbody>\n",
       "</table>\n",
       "</div>"
      ],
      "text/plain": [
       "          ROUTE  SIZE\n",
       "26952  82689422   516"
      ]
     },
     "execution_count": 283,
     "metadata": {},
     "output_type": "execute_result"
    }
   ],
   "source": [
    "top_routes.sort_values(by='SIZE', ascending=False).head(1)"
   ]
  },
  {
   "cell_type": "markdown",
   "metadata": {},
   "source": [
    "# Rota mais comum"
   ]
  },
  {
   "cell_type": "code",
   "execution_count": 284,
   "metadata": {
    "collapsed": false
   },
   "outputs": [
    {
     "data": {
      "text/html": [
       "<div>\n",
       "<table border=\"1\" class=\"dataframe\">\n",
       "  <thead>\n",
       "    <tr style=\"text-align: right;\">\n",
       "      <th></th>\n",
       "      <th>city_from</th>\n",
       "      <th>city_to</th>\n",
       "    </tr>\n",
       "  </thead>\n",
       "  <tbody>\n",
       "    <tr>\n",
       "      <th>804</th>\n",
       "      <td>8268</td>\n",
       "      <td>9422</td>\n",
       "    </tr>\n",
       "  </tbody>\n",
       "</table>\n",
       "</div>"
      ],
      "text/plain": [
       "    city_from city_to\n",
       "804      8268    9422"
      ]
     },
     "execution_count": 284,
     "metadata": {},
     "output_type": "execute_result"
    }
   ],
   "source": [
    "shipments.ix[shipments['ROUTE']==\\\n",
    "                               top_routes.sort_values(by='SIZE', ascending=False).head(1).ix[:,'ROUTE'].values[0], \\\n",
    "                               ['city_from', 'city_to']].head(1)"
   ]
  },
  {
   "cell_type": "code",
   "execution_count": 285,
   "metadata": {
    "collapsed": false
   },
   "outputs": [
    {
     "data": {
      "text/plain": [
       "'9422-23.5505199-46.6333094'"
      ]
     },
     "execution_count": 285,
     "metadata": {},
     "output_type": "execute_result"
    }
   ],
   "source": [
    "top_searched_routes.sort_values(by='SIZE', ascending=False).head(1).ix[:,'ROUTE'].values[0]"
   ]
  },
  {
   "cell_type": "markdown",
   "metadata": {},
   "source": [
    "## Qual é a rota procurada mais comum?"
   ]
  },
  {
   "cell_type": "code",
   "execution_count": 286,
   "metadata": {
    "collapsed": false
   },
   "outputs": [],
   "source": [
    "searches = pd.read_csv(datafolder+'searches.csv', dtype='unicode')"
   ]
  },
  {
   "cell_type": "code",
   "execution_count": 287,
   "metadata": {
    "collapsed": false
   },
   "outputs": [
    {
     "data": {
      "text/plain": [
       "Index(['search_id', 'search_date', 'user_id', 'user_ip', 'truck_type_id',\n",
       "       'body_type_id', 'truck_gps', 'city_from_id', 'city_to_id',\n",
       "       'from_state_uf', 'to_state_uf', 'from_lat', 'from_lng', 'to_lat',\n",
       "       'to_lng', 'search_source'],\n",
       "      dtype='object')"
      ]
     },
     "execution_count": 287,
     "metadata": {},
     "output_type": "execute_result"
    }
   ],
   "source": [
    "searches.columns"
   ]
  },
  {
   "cell_type": "code",
   "execution_count": 288,
   "metadata": {
    "collapsed": false,
    "scrolled": true
   },
   "outputs": [
    {
     "name": "stdout",
     "output_type": "stream",
     "text": [
      "Nulls in column search_id : 0\n",
      "Nulls in column search_date : 0\n",
      "Nulls in column user_id : 0\n",
      "Nulls in column user_ip : 137828\n",
      "Nulls in column truck_type_id : 0\n",
      "Nulls in column body_type_id : 0\n",
      "Nulls in column truck_gps : 0\n",
      "Nulls in column city_from_id : 0\n",
      "Nulls in column city_to_id : 0\n",
      "Nulls in column from_state_uf : 789512\n",
      "Nulls in column to_state_uf : 760145\n",
      "Nulls in column from_lat : 81595\n",
      "Nulls in column from_lng : 81595\n",
      "Nulls in column to_lat : 508232\n",
      "Nulls in column to_lng : 508232\n",
      "Nulls in column search_source : 0\n"
     ]
    }
   ],
   "source": [
    "for column in searches.columns:\n",
    "    nulls = str(len(searches.ix[searches[column].isnull()]))\n",
    "    print('Nulls in column ' + column + ' : ' + nulls)"
   ]
  },
  {
   "cell_type": "markdown",
   "metadata": {},
   "source": [
    "#### Como podemos ver acima, city_from e city_to não tem valores nulos"
   ]
  },
  {
   "cell_type": "code",
   "execution_count": 289,
   "metadata": {
    "collapsed": false
   },
   "outputs": [
    {
     "name": "stdout",
     "output_type": "stream",
     "text": [
      "0s in column search_id : 0\n",
      "0s in column search_date : 0\n",
      "0s in column user_id : 0\n",
      "0s in column user_ip : 0\n",
      "0s in column truck_type_id : 0\n",
      "0s in column body_type_id : 0\n",
      "0s in column truck_gps : 0\n",
      "0s in column city_from_id : 0\n",
      "0s in column city_to_id : 0\n",
      "0s in column from_state_uf : 0\n",
      "0s in column to_state_uf : 0\n",
      "0s in column from_lat : 0\n",
      "0s in column from_lng : 0\n",
      "0s in column to_lat : 0\n",
      "0s in column to_lng : 0\n",
      "0s in column search_source : 0\n"
     ]
    }
   ],
   "source": [
    "for column in searches.columns:\n",
    "    nulls = str(len(searches.ix[searches[column] == 0]))\n",
    "    print('0s in column ' + column + ' : ' + nulls)"
   ]
  },
  {
   "cell_type": "markdown",
   "metadata": {},
   "source": [
    "#### Ou as colunas não são numéricas ou não temos 0 como valor. Vamos ver se temos 0 como String"
   ]
  },
  {
   "cell_type": "code",
   "execution_count": 290,
   "metadata": {
    "collapsed": false
   },
   "outputs": [
    {
     "name": "stdout",
     "output_type": "stream",
     "text": [
      "0s in column search_id : 0\n",
      "0s in column search_date : 0\n",
      "0s in column user_id : 109637\n",
      "0s in column user_ip : 0\n",
      "0s in column truck_type_id : 123797\n",
      "0s in column body_type_id : 219643\n",
      "0s in column truck_gps : 111003\n",
      "0s in column city_from_id : 81595\n",
      "0s in column city_to_id : 508232\n",
      "0s in column from_state_uf : 0\n",
      "0s in column to_state_uf : 5880\n",
      "0s in column from_lat : 0\n",
      "0s in column from_lng : 0\n",
      "0s in column to_lat : 0\n",
      "0s in column to_lng : 0\n",
      "0s in column search_source : 374850\n"
     ]
    }
   ],
   "source": [
    "for column in searches.columns:\n",
    "    nulls = str(len(searches.ix[searches[column] == '0']))\n",
    "    print('0s in column ' + column + ' : ' + nulls)"
   ]
  },
  {
   "cell_type": "markdown",
   "metadata": {},
   "source": [
    "### Conclusões:\n",
    "Os seguinges campos são <b>null</b> quando não tem informação disponível:<br>\n",
    "Nulls in column from_state_uf : 789512<br>\n",
    "Nulls in column to_state_uf : 760145<br>\n",
    "Nulls in column from_lat : 81595<br>\n",
    "Nulls in column from_lng : 81595<br>\n",
    "Nulls in column to_lat : 508232<br>\n",
    "Nulls in column to_lng : 508232<br>\n",
    "Os seguintes campos são <b>'0'</b> quando não tem informação disponível:<br>\n",
    "0s in column city_from_id : 81595<br>\n",
    "0s in column city_to_id : 508232<br>\n",
    "0s in column to_state_uf : 5880"
   ]
  },
  {
   "cell_type": "code",
   "execution_count": 291,
   "metadata": {
    "collapsed": true
   },
   "outputs": [],
   "source": [
    "resumo = pd.DataFrame(columns=['Pergunta', 'from_state_uf', 'city_from_id', 'from_lat', 'from_lng',\\\n",
    "                              'to_state_uf', 'city_to_id', 'to_lat', 'to_lng'])"
   ]
  },
  {
   "cell_type": "code",
   "execution_count": 292,
   "metadata": {
    "collapsed": false
   },
   "outputs": [
    {
     "data": {
      "text/html": [
       "<div>\n",
       "<table border=\"1\" class=\"dataframe\">\n",
       "  <thead>\n",
       "    <tr style=\"text-align: right;\">\n",
       "      <th></th>\n",
       "      <th>Pergunta</th>\n",
       "      <th>from_state_uf</th>\n",
       "      <th>city_from_id</th>\n",
       "      <th>from_lat</th>\n",
       "      <th>from_lng</th>\n",
       "      <th>to_state_uf</th>\n",
       "      <th>city_to_id</th>\n",
       "      <th>to_lat</th>\n",
       "      <th>to_lng</th>\n",
       "    </tr>\n",
       "  </thead>\n",
       "  <tbody>\n",
       "  </tbody>\n",
       "</table>\n",
       "</div>"
      ],
      "text/plain": [
       "Empty DataFrame\n",
       "Columns: [Pergunta, from_state_uf, city_from_id, from_lat, from_lng, to_state_uf, city_to_id, to_lat, to_lng]\n",
       "Index: []"
      ]
     },
     "execution_count": 292,
     "metadata": {},
     "output_type": "execute_result"
    }
   ],
   "source": [
    "resumo"
   ]
  },
  {
   "cell_type": "markdown",
   "metadata": {},
   "source": [
    "### Buscas só com origem"
   ]
  },
  {
   "cell_type": "markdown",
   "metadata": {},
   "source": [
    "#### só com origem (neste caso so os campos city_from_id, from_lat e from_lng importam, os outros campos - city_to_id,  to_lat, to_lng, to_state_uf, são nulo sou string vazia),"
   ]
  },
  {
   "cell_type": "markdown",
   "metadata": {},
   "source": [
    "#### Filtrar o df, removendo observações com to_lat e to_lng null, e removendo to_state_uf=='0' e city_to_id=='0'"
   ]
  },
  {
   "cell_type": "code",
   "execution_count": 293,
   "metadata": {
    "collapsed": false
   },
   "outputs": [],
   "source": [
    "searches_so_origem = searches.ix[(searches['to_lat'].isnull()) & (searches['to_lng'].isnull()) & \\\n",
    "                                (searches['to_state_uf']=='0') & (searches['city_to_id']=='0')]"
   ]
  },
  {
   "cell_type": "code",
   "execution_count": 294,
   "metadata": {
    "collapsed": false
   },
   "outputs": [
    {
     "data": {
      "text/plain": [
       "(5880, 16)"
      ]
     },
     "execution_count": 294,
     "metadata": {},
     "output_type": "execute_result"
    }
   ],
   "source": [
    "searches_so_origem.shape"
   ]
  },
  {
   "cell_type": "code",
   "execution_count": 295,
   "metadata": {
    "collapsed": false
   },
   "outputs": [
    {
     "name": "stderr",
     "output_type": "stream",
     "text": [
      "/usr/local/lib/python3.5/dist-packages/ipykernel/__main__.py:1: SettingWithCopyWarning: \n",
      "A value is trying to be set on a copy of a slice from a DataFrame.\n",
      "Try using .loc[row_indexer,col_indexer] = value instead\n",
      "\n",
      "See the caveats in the documentation: http://pandas.pydata.org/pandas-docs/stable/indexing.html#indexing-view-versus-copy\n",
      "  if __name__ == '__main__':\n"
     ]
    }
   ],
   "source": [
    "searches_so_origem['ROTA'] = searches_so_origem['city_from_id'] + searches_so_origem['from_lat'] + searches_so_origem['from_lng']"
   ]
  },
  {
   "cell_type": "code",
   "execution_count": 296,
   "metadata": {
    "collapsed": false
   },
   "outputs": [
    {
     "data": {
      "text/html": [
       "<div>\n",
       "<table border=\"1\" class=\"dataframe\">\n",
       "  <thead>\n",
       "    <tr style=\"text-align: right;\">\n",
       "      <th></th>\n",
       "      <th>ROUTE</th>\n",
       "      <th>SIZE</th>\n",
       "    </tr>\n",
       "  </thead>\n",
       "  <tbody>\n",
       "    <tr>\n",
       "      <th>245</th>\n",
       "      <td>9422-23.5505199-46.6333094</td>\n",
       "      <td>795</td>\n",
       "    </tr>\n",
       "  </tbody>\n",
       "</table>\n",
       "</div>"
      ],
      "text/plain": [
       "                          ROUTE  SIZE\n",
       "245  9422-23.5505199-46.6333094   795"
      ]
     },
     "execution_count": 296,
     "metadata": {},
     "output_type": "execute_result"
    }
   ],
   "source": [
    "top_searched_routes = pd.DataFrame(searches_so_origem['ROTA'])\n",
    "top_searched_routes = pd.DataFrame(top_searched_routes.groupby(by=['ROTA']).size()).reset_index()\n",
    "top_searched_routes.columns = ['ROUTE', 'SIZE']\n",
    "top_searched_routes.sort_values(by='SIZE', ascending=False).head(1)"
   ]
  },
  {
   "cell_type": "markdown",
   "metadata": {},
   "source": [
    "# Rota só com origem mais buscada"
   ]
  },
  {
   "cell_type": "code",
   "execution_count": 297,
   "metadata": {
    "collapsed": false,
    "scrolled": true
   },
   "outputs": [
    {
     "data": {
      "text/html": [
       "<div>\n",
       "<table border=\"1\" class=\"dataframe\">\n",
       "  <thead>\n",
       "    <tr style=\"text-align: right;\">\n",
       "      <th></th>\n",
       "      <th>city_from_id</th>\n",
       "      <th>from_lat</th>\n",
       "      <th>from_lng</th>\n",
       "    </tr>\n",
       "  </thead>\n",
       "  <tbody>\n",
       "    <tr>\n",
       "      <th>548863</th>\n",
       "      <td>9422</td>\n",
       "      <td>-23.5505199</td>\n",
       "      <td>-46.6333094</td>\n",
       "    </tr>\n",
       "  </tbody>\n",
       "</table>\n",
       "</div>"
      ],
      "text/plain": [
       "       city_from_id     from_lat     from_lng\n",
       "548863         9422  -23.5505199  -46.6333094"
      ]
     },
     "execution_count": 297,
     "metadata": {},
     "output_type": "execute_result"
    }
   ],
   "source": [
    "searches_so_origem.ix[searches_so_origem['ROTA']==\\\n",
    "                      top_searched_routes.sort_values(by='SIZE', ascending=False).head(1).ix[:,'ROUTE'].values[0],\\\n",
    "                      ['city_from_id', 'from_lat', 'from_lng']].head(1)"
   ]
  },
  {
   "cell_type": "code",
   "execution_count": 298,
   "metadata": {
    "collapsed": true
   },
   "outputs": [],
   "source": [
    "aux = searches_so_origem.ix[searches_so_origem['ROTA']==\\\n",
    "                      top_searched_routes.sort_values(by='SIZE', ascending=False).head(1).ix[:,'ROUTE'].values[0],\\\n",
    "                      ['city_from_id', 'city_to_id', 'from_state_uf', 'to_state_uf', 'from_lat', 'from_lng', 'to_lat',\\\n",
    "                       'to_lng']].head(1)\n",
    "\n",
    "aux['Pergunta'] = 'Rota só com origem mais buscada'\n",
    "resumo = pd.concat([resumo, aux])\n",
    "resumo.reset_index(inplace=True, drop=True)"
   ]
  },
  {
   "cell_type": "code",
   "execution_count": 299,
   "metadata": {
    "collapsed": false
   },
   "outputs": [
    {
     "data": {
      "text/html": [
       "<div>\n",
       "<table border=\"1\" class=\"dataframe\">\n",
       "  <thead>\n",
       "    <tr style=\"text-align: right;\">\n",
       "      <th></th>\n",
       "      <th>Pergunta</th>\n",
       "      <th>city_from_id</th>\n",
       "      <th>city_to_id</th>\n",
       "      <th>from_lat</th>\n",
       "      <th>from_lng</th>\n",
       "      <th>from_state_uf</th>\n",
       "      <th>to_lat</th>\n",
       "      <th>to_lng</th>\n",
       "      <th>to_state_uf</th>\n",
       "    </tr>\n",
       "  </thead>\n",
       "  <tbody>\n",
       "    <tr>\n",
       "      <th>0</th>\n",
       "      <td>Rota só com origem mais buscada</td>\n",
       "      <td>9422</td>\n",
       "      <td>0</td>\n",
       "      <td>-23.5505199</td>\n",
       "      <td>-46.6333094</td>\n",
       "      <td>NaN</td>\n",
       "      <td>NaN</td>\n",
       "      <td>NaN</td>\n",
       "      <td>0</td>\n",
       "    </tr>\n",
       "  </tbody>\n",
       "</table>\n",
       "</div>"
      ],
      "text/plain": [
       "                          Pergunta city_from_id city_to_id     from_lat  \\\n",
       "0  Rota só com origem mais buscada         9422          0  -23.5505199   \n",
       "\n",
       "      from_lng from_state_uf to_lat to_lng to_state_uf  \n",
       "0  -46.6333094           NaN    NaN    NaN           0  "
      ]
     },
     "execution_count": 299,
     "metadata": {},
     "output_type": "execute_result"
    }
   ],
   "source": [
    "resumo"
   ]
  },
  {
   "cell_type": "markdown",
   "metadata": {},
   "source": [
    "### Buscas com origem e destino"
   ]
  },
  {
   "cell_type": "markdown",
   "metadata": {},
   "source": [
    "#### com origem e destino (neste caso importam os campos city_from_id, from_lat, from_lng, to_lat e to_lng),"
   ]
  },
  {
   "cell_type": "code",
   "execution_count": 300,
   "metadata": {
    "collapsed": false
   },
   "outputs": [],
   "source": [
    "searches_com_origem_destino = searches.ix[(searches['city_from_id'] !='0') & (searches['from_lat'].notnull()) & \\\n",
    "                                (searches['from_lng'].notnull()) & (searches['to_lat'].notnull()) \\\n",
    "                                          & (searches['to_lng'].notnull())]"
   ]
  },
  {
   "cell_type": "code",
   "execution_count": 301,
   "metadata": {
    "collapsed": false
   },
   "outputs": [
    {
     "data": {
      "text/plain": [
       "(270092, 16)"
      ]
     },
     "execution_count": 301,
     "metadata": {},
     "output_type": "execute_result"
    }
   ],
   "source": [
    "searches_com_origem_destino.shape"
   ]
  },
  {
   "cell_type": "code",
   "execution_count": 302,
   "metadata": {
    "collapsed": false
   },
   "outputs": [
    {
     "name": "stderr",
     "output_type": "stream",
     "text": [
      "/usr/local/lib/python3.5/dist-packages/pandas/core/indexing.py:288: SettingWithCopyWarning: \n",
      "A value is trying to be set on a copy of a slice from a DataFrame.\n",
      "Try using .loc[row_indexer,col_indexer] = value instead\n",
      "\n",
      "See the caveats in the documentation: http://pandas.pydata.org/pandas-docs/stable/indexing.html#indexing-view-versus-copy\n",
      "  self.obj[key] = _infer_fill_value(value)\n",
      "/usr/local/lib/python3.5/dist-packages/pandas/core/indexing.py:465: SettingWithCopyWarning: \n",
      "A value is trying to be set on a copy of a slice from a DataFrame.\n",
      "Try using .loc[row_indexer,col_indexer] = value instead\n",
      "\n",
      "See the caveats in the documentation: http://pandas.pydata.org/pandas-docs/stable/indexing.html#indexing-view-versus-copy\n",
      "  self.obj[item] = s\n"
     ]
    }
   ],
   "source": [
    "searches_com_origem_destino.ix[:,'ROTA'] = searches_com_origem_destino.ix[:, 'city_from_id'] + \\\n",
    "searches_com_origem_destino.ix[:,'from_lat'] + searches_com_origem_destino.ix[:,'from_lng'] + \\\n",
    "searches_com_origem_destino.ix[:,'to_lat'] + searches_com_origem_destino.ix[:,'to_lng']\n"
   ]
  },
  {
   "cell_type": "code",
   "execution_count": 303,
   "metadata": {
    "collapsed": false
   },
   "outputs": [
    {
     "data": {
      "text/html": [
       "<div>\n",
       "<table border=\"1\" class=\"dataframe\">\n",
       "  <thead>\n",
       "    <tr style=\"text-align: right;\">\n",
       "      <th></th>\n",
       "      <th>ROUTE</th>\n",
       "      <th>SIZE</th>\n",
       "    </tr>\n",
       "  </thead>\n",
       "  <tbody>\n",
       "    <tr>\n",
       "      <th>35886</th>\n",
       "      <td>9422-23.5505199-46.6333094-23.5505199-46.6333094</td>\n",
       "      <td>6552</td>\n",
       "    </tr>\n",
       "    <tr>\n",
       "      <th>35797</th>\n",
       "      <td>9422-23.5505199-46.6333094-22.9082998-43.1970773</td>\n",
       "      <td>3926</td>\n",
       "    </tr>\n",
       "  </tbody>\n",
       "</table>\n",
       "</div>"
      ],
      "text/plain": [
       "                                                  ROUTE  SIZE\n",
       "35886  9422-23.5505199-46.6333094-23.5505199-46.6333094  6552\n",
       "35797  9422-23.5505199-46.6333094-22.9082998-43.1970773  3926"
      ]
     },
     "execution_count": 303,
     "metadata": {},
     "output_type": "execute_result"
    }
   ],
   "source": [
    "top_searched_routes = pd.DataFrame(searches_com_origem_destino['ROTA'])\n",
    "top_searched_routes = pd.DataFrame(top_searched_routes.groupby(by=['ROTA']).size()).reset_index()\n",
    "top_searched_routes.columns = ['ROUTE', 'SIZE']\n",
    "top_searched_routes.sort_values(by='SIZE', ascending=False).head(2)"
   ]
  },
  {
   "cell_type": "markdown",
   "metadata": {},
   "source": [
    "# Rota com origem e destino mais buscada"
   ]
  },
  {
   "cell_type": "code",
   "execution_count": 304,
   "metadata": {
    "collapsed": false,
    "scrolled": true
   },
   "outputs": [
    {
     "data": {
      "text/html": [
       "<div>\n",
       "<table border=\"1\" class=\"dataframe\">\n",
       "  <thead>\n",
       "    <tr style=\"text-align: right;\">\n",
       "      <th></th>\n",
       "      <th>city_from_id</th>\n",
       "      <th>from_lat</th>\n",
       "      <th>from_lng</th>\n",
       "      <th>to_lat</th>\n",
       "      <th>to_lng</th>\n",
       "    </tr>\n",
       "  </thead>\n",
       "  <tbody>\n",
       "    <tr>\n",
       "      <th>223</th>\n",
       "      <td>9422</td>\n",
       "      <td>-23.5505199</td>\n",
       "      <td>-46.6333094</td>\n",
       "      <td>-23.5505199</td>\n",
       "      <td>-46.6333094</td>\n",
       "    </tr>\n",
       "  </tbody>\n",
       "</table>\n",
       "</div>"
      ],
      "text/plain": [
       "    city_from_id     from_lat     from_lng       to_lat       to_lng\n",
       "223         9422  -23.5505199  -46.6333094  -23.5505199  -46.6333094"
      ]
     },
     "execution_count": 304,
     "metadata": {},
     "output_type": "execute_result"
    }
   ],
   "source": [
    "searches_com_origem_destino.ix[searches_com_origem_destino['ROTA']==\\\n",
    "                               top_searched_routes.sort_values(by='SIZE', ascending=False).head(1).ix[:,'ROUTE'].values[0], \\\n",
    "                               ['city_from_id', 'from_lat', 'from_lng', 'to_lat', 'to_lng']].head(1)"
   ]
  },
  {
   "cell_type": "code",
   "execution_count": 305,
   "metadata": {
    "collapsed": true
   },
   "outputs": [],
   "source": [
    "aux = searches_com_origem_destino.ix[searches_com_origem_destino['ROTA']==\\\n",
    "                                     top_searched_routes.sort_values(by='SIZE', \\\n",
    "                                                                     ascending=False).head(1).ix[:,'ROUTE'].values[0],\\\n",
    "                                     ['city_from_id', 'city_to_id', 'from_state_uf', 'to_state_uf', 'from_lat', 'from_lng', \\\n",
    "                                      'to_lat', 'to_lng']].head(1)\n",
    "\n",
    "aux['Pergunta'] = 'Rota com origem e destino mais buscada'\n",
    "resumo = pd.concat([resumo, aux])\n",
    "resumo.reset_index(inplace=True, drop=True)"
   ]
  },
  {
   "cell_type": "markdown",
   "metadata": {},
   "source": [
    "#### O que notamos aqui é que a origem e o destino são o mesmo. Isso pode indicar a lat/long padrão usada para indicar o centro da cidade de SP, já que estão praticamente no marco zero da cidade:\n",
    "<img src=\"https://raw.githubusercontent.com/guilhermemarson/cargox-test/master/marco-zero.png\">"
   ]
  },
  {
   "cell_type": "markdown",
   "metadata": {},
   "source": [
    "### Como ainda me falta conhecimento sobre a ferramenta, não posso assumir que o que foi encontrado acima é ou não um erro. Como ele não define uma rota propriamente dita, já que origem e destino são iguais, vou adicionar também a segunda rota mais buscada"
   ]
  },
  {
   "cell_type": "code",
   "execution_count": 306,
   "metadata": {
    "collapsed": false,
    "scrolled": false
   },
   "outputs": [
    {
     "data": {
      "text/html": [
       "<div>\n",
       "<table border=\"1\" class=\"dataframe\">\n",
       "  <thead>\n",
       "    <tr style=\"text-align: right;\">\n",
       "      <th></th>\n",
       "      <th>city_from_id</th>\n",
       "      <th>from_lat</th>\n",
       "      <th>from_lng</th>\n",
       "      <th>to_lat</th>\n",
       "      <th>to_lng</th>\n",
       "    </tr>\n",
       "  </thead>\n",
       "  <tbody>\n",
       "    <tr>\n",
       "      <th>567</th>\n",
       "      <td>9422</td>\n",
       "      <td>-23.5505199</td>\n",
       "      <td>-46.6333094</td>\n",
       "      <td>-22.9082998</td>\n",
       "      <td>-43.1970773</td>\n",
       "    </tr>\n",
       "  </tbody>\n",
       "</table>\n",
       "</div>"
      ],
      "text/plain": [
       "    city_from_id     from_lat     from_lng       to_lat       to_lng\n",
       "567         9422  -23.5505199  -46.6333094  -22.9082998  -43.1970773"
      ]
     },
     "execution_count": 306,
     "metadata": {},
     "output_type": "execute_result"
    }
   ],
   "source": [
    "searches_com_origem_destino.ix[searches_com_origem_destino['ROTA']==\\\n",
    "                               top_searched_routes.sort_values(by='SIZE', ascending=False).head(2).ix[:,'ROUTE'].values[1], \\\n",
    "                               ['city_from_id', 'from_lat', 'from_lng', 'to_lat', 'to_lng']].head(1)"
   ]
  },
  {
   "cell_type": "code",
   "execution_count": 307,
   "metadata": {
    "collapsed": true
   },
   "outputs": [],
   "source": [
    "aux = searches_com_origem_destino.ix[searches_com_origem_destino['ROTA']==\\\n",
    "                               top_searched_routes.sort_values(by='SIZE', ascending=False).head(2).ix[:,'ROUTE'].values[1], \\\n",
    "                               ['city_from_id', 'city_to_id', 'from_state_uf', 'to_state_uf', 'from_lat', 'from_lng', \\\n",
    "                                'to_lat', 'to_lng']].head(1)\n",
    "\n",
    "aux['Pergunta'] = 'Segunda rota com origem e destino mais buscada'\n",
    "resumo = pd.concat([resumo, aux])\n",
    "resumo.reset_index(inplace=True, drop=True)"
   ]
  },
  {
   "cell_type": "markdown",
   "metadata": {},
   "source": [
    "<img src=\"https://raw.githubusercontent.com/guilhermemarson/cargox-test/master/SP-RJ.png\">"
   ]
  },
  {
   "cell_type": "markdown",
   "metadata": {},
   "source": [
    "### Buscas com origem e estado de destino"
   ]
  },
  {
   "cell_type": "markdown",
   "metadata": {},
   "source": [
    "#### com origem e estado de destino (aqui os campos que importam seriam city_from_id,from_lat,from_lng,to_state_uf, os outros campos serão nulos ou string vazias)"
   ]
  },
  {
   "cell_type": "code",
   "execution_count": 308,
   "metadata": {
    "collapsed": true
   },
   "outputs": [],
   "source": [
    "orig_est_dest = searches.ix[(searches['city_to_id'] =='0') & (searches['to_lat'].isnull()) & \\\n",
    "                                (searches['to_lng'].isnull()) & (searches['city_from_id']!=0) \\\n",
    "                           & (searches['from_lat'].notnull()) & (searches['from_lng'].notnull()) \\\n",
    "                           & (searches['to_state_uf']!='0')]\n",
    "#& (searches['from_state_uf'].isnull())"
   ]
  },
  {
   "cell_type": "code",
   "execution_count": 309,
   "metadata": {
    "collapsed": false
   },
   "outputs": [
    {
     "data": {
      "text/plain": [
       "(433159, 16)"
      ]
     },
     "execution_count": 309,
     "metadata": {},
     "output_type": "execute_result"
    }
   ],
   "source": [
    "orig_est_dest.ix[orig_est_dest.from_state_uf.isnull()].shape"
   ]
  },
  {
   "cell_type": "code",
   "execution_count": 310,
   "metadata": {
    "collapsed": false
   },
   "outputs": [
    {
     "data": {
      "text/plain": [
       "(433159, 16)"
      ]
     },
     "execution_count": 310,
     "metadata": {},
     "output_type": "execute_result"
    }
   ],
   "source": [
    "orig_est_dest.shape"
   ]
  },
  {
   "cell_type": "markdown",
   "metadata": {},
   "source": [
    "#### Eu tinha dúvidas se poderia considerar o from_state_uf vazio ou se poderia ter casos em que o estado de origem estaria definido, mas após o estudo acima, consegui concluir que ele é sempre vazio neste caso "
   ]
  },
  {
   "cell_type": "code",
   "execution_count": 311,
   "metadata": {
    "collapsed": false
   },
   "outputs": [
    {
     "name": "stderr",
     "output_type": "stream",
     "text": [
      "/usr/local/lib/python3.5/dist-packages/pandas/core/indexing.py:288: SettingWithCopyWarning: \n",
      "A value is trying to be set on a copy of a slice from a DataFrame.\n",
      "Try using .loc[row_indexer,col_indexer] = value instead\n",
      "\n",
      "See the caveats in the documentation: http://pandas.pydata.org/pandas-docs/stable/indexing.html#indexing-view-versus-copy\n",
      "  self.obj[key] = _infer_fill_value(value)\n",
      "/usr/local/lib/python3.5/dist-packages/pandas/core/indexing.py:465: SettingWithCopyWarning: \n",
      "A value is trying to be set on a copy of a slice from a DataFrame.\n",
      "Try using .loc[row_indexer,col_indexer] = value instead\n",
      "\n",
      "See the caveats in the documentation: http://pandas.pydata.org/pandas-docs/stable/indexing.html#indexing-view-versus-copy\n",
      "  self.obj[item] = s\n"
     ]
    }
   ],
   "source": [
    "orig_est_dest.ix[:,'ROTA'] = orig_est_dest.ix[:, 'city_from_id'] + \\\n",
    "orig_est_dest.ix[:,'from_lat'] + orig_est_dest.ix[:,'from_lng'] + \\\n",
    "orig_est_dest.ix[:,'to_state_uf'] "
   ]
  },
  {
   "cell_type": "code",
   "execution_count": 312,
   "metadata": {
    "collapsed": false,
    "scrolled": true
   },
   "outputs": [
    {
     "data": {
      "text/html": [
       "<div>\n",
       "<table border=\"1\" class=\"dataframe\">\n",
       "  <thead>\n",
       "    <tr style=\"text-align: right;\">\n",
       "      <th></th>\n",
       "      <th>ROUTE</th>\n",
       "      <th>SIZE</th>\n",
       "    </tr>\n",
       "  </thead>\n",
       "  <tbody>\n",
       "    <tr>\n",
       "      <th>2094</th>\n",
       "      <td>9422-23.5505199-46.6333094SP</td>\n",
       "      <td>742</td>\n",
       "    </tr>\n",
       "  </tbody>\n",
       "</table>\n",
       "</div>"
      ],
      "text/plain": [
       "                             ROUTE  SIZE\n",
       "2094  9422-23.5505199-46.6333094SP   742"
      ]
     },
     "execution_count": 312,
     "metadata": {},
     "output_type": "execute_result"
    }
   ],
   "source": [
    "top_searched_routes = pd.DataFrame(orig_est_dest['ROTA'])\n",
    "top_searched_routes = pd.DataFrame(top_searched_routes.groupby(by=['ROTA']).size()).reset_index()\n",
    "top_searched_routes.columns = ['ROUTE', 'SIZE']\n",
    "top_searched_routes.sort_values(by='SIZE', ascending=False).head(1)"
   ]
  },
  {
   "cell_type": "markdown",
   "metadata": {},
   "source": [
    "# Rota com origem e estado de destino mais buscada"
   ]
  },
  {
   "cell_type": "code",
   "execution_count": 313,
   "metadata": {
    "collapsed": false,
    "scrolled": true
   },
   "outputs": [
    {
     "data": {
      "text/html": [
       "<div>\n",
       "<table border=\"1\" class=\"dataframe\">\n",
       "  <thead>\n",
       "    <tr style=\"text-align: right;\">\n",
       "      <th></th>\n",
       "      <th>city_from_id</th>\n",
       "      <th>from_lat</th>\n",
       "      <th>from_lng</th>\n",
       "      <th>to_state_uf</th>\n",
       "    </tr>\n",
       "  </thead>\n",
       "  <tbody>\n",
       "    <tr>\n",
       "      <th>542649</th>\n",
       "      <td>9422</td>\n",
       "      <td>-23.5505199</td>\n",
       "      <td>-46.6333094</td>\n",
       "      <td>SP</td>\n",
       "    </tr>\n",
       "  </tbody>\n",
       "</table>\n",
       "</div>"
      ],
      "text/plain": [
       "       city_from_id     from_lat     from_lng to_state_uf\n",
       "542649         9422  -23.5505199  -46.6333094          SP"
      ]
     },
     "execution_count": 313,
     "metadata": {},
     "output_type": "execute_result"
    }
   ],
   "source": [
    "orig_est_dest.ix[orig_est_dest['ROTA']==\\\n",
    "                 top_searched_routes.sort_values(by='SIZE', ascending=False).head(1).ix[:,'ROUTE'].values[0], \\\n",
    "                               ['city_from_id', 'from_lat', 'from_lng', 'to_state_uf']].head(1)"
   ]
  },
  {
   "cell_type": "code",
   "execution_count": 314,
   "metadata": {
    "collapsed": true
   },
   "outputs": [],
   "source": [
    "aux = orig_est_dest.ix[orig_est_dest['ROTA']==\\\n",
    "                 top_searched_routes.sort_values(by='SIZE', ascending=False).head(1).ix[:,'ROUTE'].values[0], \\\n",
    "                               ['city_from_id', 'city_to_id', 'from_state_uf', 'to_state_uf', 'from_lat', 'from_lng', \\\n",
    "                                'to_lat', 'to_lng']].head(1)\n",
    "\n",
    "aux['Pergunta'] = 'Rota com origem e estado de destino mais buscada'\n",
    "resumo = pd.concat([resumo, aux])\n",
    "resumo.reset_index(inplace=True, drop=True)"
   ]
  },
  {
   "cell_type": "markdown",
   "metadata": {},
   "source": [
    "### O dataframe abaixo resume a segunda parte da primeira pergunta. \n",
    "### Separei a pergunta de rota procurada mais comum nos 3 tipos de busca documentados no arquivo\n",
    "### O segundo tipo de busca foi quebrado em duas, pois a primeira tinha origem e destino iguais"
   ]
  },
  {
   "cell_type": "code",
   "execution_count": 315,
   "metadata": {
    "collapsed": false
   },
   "outputs": [
    {
     "data": {
      "text/html": [
       "<div>\n",
       "<table border=\"1\" class=\"dataframe\">\n",
       "  <thead>\n",
       "    <tr style=\"text-align: right;\">\n",
       "      <th></th>\n",
       "      <th>Pergunta</th>\n",
       "      <th>city_from_id</th>\n",
       "      <th>city_to_id</th>\n",
       "      <th>from_lat</th>\n",
       "      <th>from_lng</th>\n",
       "      <th>from_state_uf</th>\n",
       "      <th>to_lat</th>\n",
       "      <th>to_lng</th>\n",
       "      <th>to_state_uf</th>\n",
       "    </tr>\n",
       "  </thead>\n",
       "  <tbody>\n",
       "    <tr>\n",
       "      <th>0</th>\n",
       "      <td>Rota só com origem mais buscada</td>\n",
       "      <td>9422</td>\n",
       "      <td>0</td>\n",
       "      <td>-23.5505199</td>\n",
       "      <td>-46.6333094</td>\n",
       "      <td>NaN</td>\n",
       "      <td>NaN</td>\n",
       "      <td>NaN</td>\n",
       "      <td>0</td>\n",
       "    </tr>\n",
       "    <tr>\n",
       "      <th>1</th>\n",
       "      <td>Rota com origem e destino mais buscada</td>\n",
       "      <td>9422</td>\n",
       "      <td>9422</td>\n",
       "      <td>-23.5505199</td>\n",
       "      <td>-46.6333094</td>\n",
       "      <td>NaN</td>\n",
       "      <td>-23.5505199</td>\n",
       "      <td>-46.6333094</td>\n",
       "      <td>NaN</td>\n",
       "    </tr>\n",
       "    <tr>\n",
       "      <th>2</th>\n",
       "      <td>Segunda rota com origem e destino mais buscada</td>\n",
       "      <td>9422</td>\n",
       "      <td>6861</td>\n",
       "      <td>-23.5505199</td>\n",
       "      <td>-46.6333094</td>\n",
       "      <td>NaN</td>\n",
       "      <td>-22.9082998</td>\n",
       "      <td>-43.1970773</td>\n",
       "      <td>NaN</td>\n",
       "    </tr>\n",
       "    <tr>\n",
       "      <th>3</th>\n",
       "      <td>Rota com origem e estado de destino mais buscada</td>\n",
       "      <td>9422</td>\n",
       "      <td>0</td>\n",
       "      <td>-23.5505199</td>\n",
       "      <td>-46.6333094</td>\n",
       "      <td>NaN</td>\n",
       "      <td>NaN</td>\n",
       "      <td>NaN</td>\n",
       "      <td>SP</td>\n",
       "    </tr>\n",
       "  </tbody>\n",
       "</table>\n",
       "</div>"
      ],
      "text/plain": [
       "                                           Pergunta city_from_id city_to_id  \\\n",
       "0                   Rota só com origem mais buscada         9422          0   \n",
       "1            Rota com origem e destino mais buscada         9422       9422   \n",
       "2    Segunda rota com origem e destino mais buscada         9422       6861   \n",
       "3  Rota com origem e estado de destino mais buscada         9422          0   \n",
       "\n",
       "      from_lat     from_lng from_state_uf       to_lat       to_lng  \\\n",
       "0  -23.5505199  -46.6333094           NaN          NaN          NaN   \n",
       "1  -23.5505199  -46.6333094           NaN  -23.5505199  -46.6333094   \n",
       "2  -23.5505199  -46.6333094           NaN  -22.9082998  -43.1970773   \n",
       "3  -23.5505199  -46.6333094           NaN          NaN          NaN   \n",
       "\n",
       "  to_state_uf  \n",
       "0           0  \n",
       "1         NaN  \n",
       "2         NaN  \n",
       "3          SP  "
      ]
     },
     "execution_count": 315,
     "metadata": {},
     "output_type": "execute_result"
    }
   ],
   "source": [
    "resumo"
   ]
  }
 ],
 "metadata": {
  "kernelspec": {
   "display_name": "Python 3",
   "language": "python",
   "name": "python3"
  },
  "language_info": {
   "codemirror_mode": {
    "name": "ipython",
    "version": 3
   },
   "file_extension": ".py",
   "mimetype": "text/x-python",
   "name": "python",
   "nbconvert_exporter": "python",
   "pygments_lexer": "ipython3",
   "version": "3.5.1+"
  }
 },
 "nbformat": 4,
 "nbformat_minor": 0
}
